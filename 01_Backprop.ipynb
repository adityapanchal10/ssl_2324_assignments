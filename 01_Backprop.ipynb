{
  "cells": [
    {
      "attachments": {},
      "cell_type": "markdown",
      "metadata": {
        "id": "cJXR8-b_hFvt"
      },
      "source": [
        "# Welcome to your first assignment of the SSL lecture\n",
        "\n",
        "We are very glad, that you took the first step and opened this Jupyter Notebook successfully.\n",
        "\n",
        "Please submit your solution of this notebook in the Whiteboard at the corresponding Assignment entry. We need you to upload the .ipynb-file and the exported .pdf of this notebook.\n",
        "\n",
        "This and all the upcoming assignment notebooks will guide you (more or less) through the tasks we want you to solve. You sometimes will find some code snippets, which may help you to solve the tasks. But you are also free to implement your own functions, if you want to.\n",
        "\n",
        "For the first week we want you implement and train a simple neural network with backpropagation, just like we did in the lecture. If you have any questions, ask them in either in the tutorials or in the \"Mattermost\" channel: https://mattermost.imp.fu-berlin.de/biorobotics/channels/ssl_ws_2324\n",
        "\n",
        "The Exercise description states the **RESULT** we will grade."
      ]
    },
    {
      "attachments": {},
      "cell_type": "markdown",
      "metadata": {
        "id": "kIHCJXSchFvy"
      },
      "source": [
        "## Slide Review\n",
        "\n",
        "[Google Form](https://forms.gle/MstgymkWzPcWDFCa7) for the slide review. Please take one minute to scroll over the slides again and improve your lecture."
      ]
    },
    {
      "attachments": {},
      "cell_type": "markdown",
      "metadata": {
        "id": "qZKLLAUJhFv1"
      },
      "source": [
        "#### Please state both names of your group members here:\n",
        "Authors: Aditya Panchal (Do not have a group mate yet :/)"
      ]
    },
    {
      "attachments": {},
      "cell_type": "markdown",
      "metadata": {
        "id": "hB8ks44zhFv2"
      },
      "source": [
        "# Assignment 1: Backpropagation\n",
        "We recommend you read the chapter 7.3.3 of the Rojas book (https://www.inf.fu-berlin.de/inst/ag-ki/rojas_home/documents/1996/NeuralNetworks/neuron.pdf), and learn about the \"matrix way\" of implementing backprop.\n",
        "\n",
        "## Ex. 1.1 XOR\n",
        "Implement a two-layer artificial neural network with two input neurons and one output neuron. Choose the number of hidden neurons to your liking. Our goal is to learn the [XOR gate](https://en.wikipedia.org/wiki/XOR_gate). What does the untrained network (= random weights) return for all (four) combinations of inputs? **(RESULT)**"
      ]
    },
    {
      "cell_type": "code",
      "execution_count": 41,
      "metadata": {
        "id": "a8UD_di0hFv5"
      },
      "outputs": [],
      "source": [
        "import matplotlib.pyplot as plt\n",
        "import numpy\n",
        "\n",
        "def sigmoid(z):\n",
        "    return 1/(1 + numpy.exp(-z))\n",
        "\n",
        "def softplus(z): # For the MNIST thingy\n",
        "    return numpy.log(1 + numpy.exp(z))\n",
        "\n",
        "def sigmoid_prime(z): # Derivative of sigmoid function\n",
        "    return z * (1 - z)\n",
        "\n",
        "class simpleNN():\n",
        "    def __init__(self, inputs=2, hidden=2, outputs=1):\n",
        "        self.n_input = inputs\n",
        "        self.n_hidden = hidden\n",
        "        self.n_output = outputs\n",
        "\n",
        "        self.input_wt_matrix = numpy.random.uniform(size=(self.n_input, self.n_hidden))\n",
        "        self.output_wt_matrix = numpy.random.uniform(size=(self.n_hidden, self.n_output))\n",
        "\n",
        "    def predict(self, X, activation='sigmoid'):\n",
        "        hidden_layer_input = numpy.dot(X, self.input_wt_matrix)\n",
        "        if activation=='sigmoid':\n",
        "            self.hidden_layer_output = sigmoid(hidden_layer_input)\n",
        "        elif activation=='softplus':\n",
        "            self.hidden_layer_output = softplus(hidden_layer_input)\n",
        "        else:\n",
        "            self.hidden_layer_output = hidden_layer_input\n",
        "\n",
        "        final_layer_input = numpy.dot(self.hidden_layer_output, self.output_wt_matrix)\n",
        "        if activation=='sigmoid':\n",
        "            self.final_layer_output = sigmoid(final_layer_input)\n",
        "        elif activation=='softplus':\n",
        "            self.final_layer_output = softplus(final_layer_input)\n",
        "        else:\n",
        "            self.final_layer_output = final_layer_input\n",
        "        return self.final_layer_output\n",
        "\n",
        "    def get_error(self, predictions, true):\n",
        "        return true - predictions"
      ]
    },
    {
      "cell_type": "code",
      "execution_count": 42,
      "metadata": {
        "colab": {
          "base_uri": "https://localhost:8080/"
        },
        "id": "utab7PCYhFv8",
        "outputId": "fe381118-2e09-4bb3-f0c0-11a97bfd3a1d"
      },
      "outputs": [
        {
          "name": "stdout",
          "output_type": "stream",
          "text": [
            "Random weights, without activation\n",
            "Predictions: \n",
            " [[0.        ]\n",
            " [0.79691189]\n",
            " [0.6115364 ]\n",
            " [1.40844829]]\n",
            "Errors: \n",
            " [[ 0.        ]\n",
            " [ 0.20308811]\n",
            " [ 0.3884636 ]\n",
            " [-1.40844829]]\n",
            "Mean Absolute Error: 0.2042241451092177\n",
            "\n",
            "Random weights, with activation\n",
            "Predictions: \n",
            " [[0.72322335]\n",
            " [0.75962605]\n",
            " [0.75238709]\n",
            " [0.78461603]]\n",
            "Errors: \n",
            " [[-0.72322335]\n",
            " [ 0.24037395]\n",
            " [ 0.24761291]\n",
            " [-0.78461603]]\n",
            "Mean Absolute Error: 0.2549631323314671\n"
          ]
        }
      ],
      "source": [
        "X = numpy.array([[0, 0], [0, 1], [1, 0], [1, 1]])\n",
        "y = numpy.array([[0], [1], [1], [0]])\n",
        "\n",
        "nn = simpleNN(2, 4, 1)\n",
        "\n",
        "# Without activation\n",
        "print(\"Random weights, without activation\")\n",
        "preds = nn.predict(X, activation='none')\n",
        "print(\"Predictions: \\n\", preds)\n",
        "err = nn.get_error(preds, y)\n",
        "print(\"Errors: \\n\", err)\n",
        "print(f\"Mean Absolute Error: {abs(numpy.mean(err))}\")\n",
        "\n",
        "# With activation\n",
        "print(\"\\nRandom weights, with activation\")\n",
        "preds = nn.predict(X, activation='sigmoid')\n",
        "print(\"Predictions: \\n\", preds)\n",
        "err = nn.get_error(preds, y)\n",
        "print(\"Errors: \\n\", err)\n",
        "print(f\"Mean Absolute Error: {abs(numpy.mean(err))}\")"
      ]
    },
    {
      "attachments": {},
      "cell_type": "markdown",
      "metadata": {
        "id": "5grytu1thFwA"
      },
      "source": [
        "## Ex. 1.2 Backpropagation\n",
        "Implement Backpropagation and optimize the weights of your neural network using the XOR training set:\n",
        "\n",
        "### x, y\n",
        "\n",
        "(0,0), 0\n",
        "\n",
        "(0,1), 1\n",
        "\n",
        "(1,0), 1\n",
        "\n",
        "(1,1), 0\n",
        "\n",
        "How many training iterations do you need? Plot the network error over the number of iterations! **(RESULT)**"
      ]
    },
    {
      "cell_type": "code",
      "execution_count": 43,
      "metadata": {
        "id": "OSgf6EsOhFwC"
      },
      "outputs": [],
      "source": [
        "def learn(self, X, y, n_iter=10000, activation='sigmoid'):\n",
        "    errors = []\n",
        "    for i in range(n_iter):\n",
        "        preds = self.predict(X, activation=activation)\n",
        "        err = self.get_error(preds, y)\n",
        "        errors.append(abs(numpy.mean(err)))\n",
        "        print(f\"Iteration: {i}\\tMean Absolute Error: {abs(numpy.mean(err))}\") if i % (n_iter/10) == 0 else None\n",
        "\n",
        "        # Backpropagation\n",
        "        output_derivative = err * sigmoid_prime(preds) if activation != 'none' else err\n",
        "        hidden_layer_err = numpy.dot(output_derivative, self.output_wt_matrix.T)\n",
        "        hidden_layer_derivative = hidden_layer_err * sigmoid_prime(self.hidden_layer_output) if activation != 'none' else hidden_layer_err\n",
        "        self.output_wt_matrix += numpy.dot(self.hidden_layer_output.T, output_derivative)\n",
        "        self.input_wt_matrix += numpy.dot(X.T, hidden_layer_derivative)\n",
        "\n",
        "    print(f\"\\nFinal outputs: \\n{preds}\")\n",
        "    print(f\"Final MAE: {abs(numpy.mean(err))}\")\n",
        "\n",
        "    # Plotting the errors\n",
        "    plt.plot(errors, color=\"#DD1010AA\")\n",
        "    plt.xlabel('Iterations')\n",
        "    plt.ylabel('Mean Absolute Error')\n",
        "    plt.hlines(0, 0, n_iter, linestyles='dashed', colors=\"#10101099\")\n",
        "    plt.title('Network Error vs No. of Iterations')\n",
        "    plt.show()"
      ]
    },
    {
      "cell_type": "code",
      "execution_count": 44,
      "metadata": {
        "colab": {
          "base_uri": "https://localhost:8080/",
          "height": 767
        },
        "id": "OoR93_CVhSCj",
        "outputId": "67f8fafe-ffa3-4c3d-9203-82076f628953"
      },
      "outputs": [
        {
          "name": "stdout",
          "output_type": "stream",
          "text": [
            "Iteration: 0\tMean Absolute Error: 0.28162567527019\n",
            "Iteration: 100\tMean Absolute Error: 0.004749356046135536\n",
            "Iteration: 200\tMean Absolute Error: 0.010716952189517404\n",
            "Iteration: 300\tMean Absolute Error: 0.011271434275811773\n",
            "Iteration: 400\tMean Absolute Error: 0.00533835952037405\n",
            "Iteration: 500\tMean Absolute Error: 0.0005951538970117021\n",
            "Iteration: 600\tMean Absolute Error: 0.0013334657303111785\n",
            "Iteration: 700\tMean Absolute Error: 0.002012185590244367\n",
            "Iteration: 800\tMean Absolute Error: 0.0020974441761871035\n",
            "Iteration: 900\tMean Absolute Error: 0.0020135061261070085\n",
            "\n",
            "Final outputs: \n",
            "[[0.10139395]\n",
            " [0.92103047]\n",
            " [0.91403745]\n",
            " [0.07110289]]\n",
            "Final MAE: 0.0018911893876911792\n"
          ]
        },
        {
          "data": {
            "image/png": "[encoded data removed]",
            "text/plain": [
              "<Figure size 640x480 with 1 Axes>"
            ]
          },
          "metadata": {},
          "output_type": "display_data"
        }
      ],
      "source": [
        "simpleNN.learn = learn\n",
        "\n",
        "nn = simpleNN(2, 4, 1)\n",
        "X = numpy.array([[0, 0], [0, 1], [1, 0], [1, 1]])\n",
        "y = numpy.array([[0], [1], [1], [0]])\n",
        "nn.learn(X, y, n_iter=1000, activation='sigmoid')"
      ]
    },
    {
      "attachments": {},
      "cell_type": "markdown",
      "metadata": {
        "id": "m6DqvVOIhFwH"
      },
      "source": [
        "From above, a good number of training iterations seems to be >500"
      ]
    },
    {
      "attachments": {},
      "cell_type": "markdown",
      "metadata": {
        "id": "GnyKASh7hFwK"
      },
      "source": [
        "# Ex. 1.3 MNIST (BONUS)\n",
        "Train your network on the MNIST dataset and state the model accuracy (or the model error) for the training and test sets. **(RESULT)** You can download the dataset using the [PyTorch library](https://pytorch.org/vision/0.15/generated/torchvision.datasets.MNIST.html).\n",
        "\n",
        "Compare your results to this [list](https://rodrigob.github.io/are_we_there_yet/build/classification_datasets_results.html#4d4e495354).\n"
      ]
    },
    {
      "cell_type": "code",
      "execution_count": 45,
      "metadata": {
        "colab": {
          "base_uri": "https://localhost:8080/",
          "height": 409
        },
        "id": "9eEmjlC9hFwN",
        "outputId": "cc0ed818-3996-440b-9504-233f79c97647"
      },
      "outputs": [
        {
          "ename": "ModuleNotFoundError",
          "evalue": "No module named 'tensorflow'",
          "output_type": "error",
          "traceback": [
            "\u001b[1;31m---------------------------------------------------------------------------\u001b[0m",
            "\u001b[1;31mModuleNotFoundError\u001b[0m                       Traceback (most recent call last)",
            "Cell \u001b[1;32mIn[45], line 2\u001b[0m\n\u001b[0;32m      1\u001b[0m \u001b[39m# Loading the MNIST dataset\u001b[39;00m\n\u001b[1;32m----> 2\u001b[0m \u001b[39mfrom\u001b[39;00m \u001b[39mkeras\u001b[39;00m\u001b[39m.\u001b[39;00m\u001b[39mdatasets\u001b[39;00m \u001b[39mimport\u001b[39;00m mnist\n\u001b[0;32m      3\u001b[0m \u001b[39mfrom\u001b[39;00m \u001b[39mkeras\u001b[39;00m\u001b[39m.\u001b[39;00m\u001b[39mutils\u001b[39;00m \u001b[39mimport\u001b[39;00m to_categorical\n\u001b[0;32m      5\u001b[0m (X_train, y_train), (X_test, y_test) \u001b[39m=\u001b[39m mnist\u001b[39m.\u001b[39mload_data()\n",
            "File \u001b[1;32mc:\\Users\\Aditiya\\mambaforge\\envs\\manhattan\\Lib\\site-packages\\keras\\__init__.py:3\u001b[0m\n\u001b[0;32m      1\u001b[0m \u001b[39m\"\"\"AUTOGENERATED. DO NOT EDIT.\"\"\"\u001b[39;00m\n\u001b[1;32m----> 3\u001b[0m \u001b[39mfrom\u001b[39;00m \u001b[39mkeras\u001b[39;00m \u001b[39mimport\u001b[39;00m __internal__\n\u001b[0;32m      4\u001b[0m \u001b[39mfrom\u001b[39;00m \u001b[39mkeras\u001b[39;00m \u001b[39mimport\u001b[39;00m activations\n\u001b[0;32m      5\u001b[0m \u001b[39mfrom\u001b[39;00m \u001b[39mkeras\u001b[39;00m \u001b[39mimport\u001b[39;00m applications\n",
            "File \u001b[1;32mc:\\Users\\Aditiya\\mambaforge\\envs\\manhattan\\Lib\\site-packages\\keras\\__internal__\\__init__.py:3\u001b[0m\n\u001b[0;32m      1\u001b[0m \u001b[39m\"\"\"AUTOGENERATED. DO NOT EDIT.\"\"\"\u001b[39;00m\n\u001b[1;32m----> 3\u001b[0m \u001b[39mfrom\u001b[39;00m \u001b[39mkeras\u001b[39;00m\u001b[39m.\u001b[39;00m\u001b[39m__internal__\u001b[39;00m \u001b[39mimport\u001b[39;00m backend\n\u001b[0;32m      4\u001b[0m \u001b[39mfrom\u001b[39;00m \u001b[39mkeras\u001b[39;00m\u001b[39m.\u001b[39;00m\u001b[39m__internal__\u001b[39;00m \u001b[39mimport\u001b[39;00m layers\n\u001b[0;32m      5\u001b[0m \u001b[39mfrom\u001b[39;00m \u001b[39mkeras\u001b[39;00m\u001b[39m.\u001b[39;00m\u001b[39m__internal__\u001b[39;00m \u001b[39mimport\u001b[39;00m losses\n",
            "File \u001b[1;32mc:\\Users\\Aditiya\\mambaforge\\envs\\manhattan\\Lib\\site-packages\\keras\\__internal__\\backend\\__init__.py:3\u001b[0m\n\u001b[0;32m      1\u001b[0m \u001b[39m\"\"\"AUTOGENERATED. DO NOT EDIT.\"\"\"\u001b[39;00m\n\u001b[1;32m----> 3\u001b[0m \u001b[39mfrom\u001b[39;00m \u001b[39mkeras\u001b[39;00m\u001b[39m.\u001b[39;00m\u001b[39msrc\u001b[39;00m\u001b[39m.\u001b[39;00m\u001b[39mbackend\u001b[39;00m \u001b[39mimport\u001b[39;00m _initialize_variables \u001b[39mas\u001b[39;00m initialize_variables\n\u001b[0;32m      4\u001b[0m \u001b[39mfrom\u001b[39;00m \u001b[39mkeras\u001b[39;00m\u001b[39m.\u001b[39;00m\u001b[39msrc\u001b[39;00m\u001b[39m.\u001b[39;00m\u001b[39mbackend\u001b[39;00m \u001b[39mimport\u001b[39;00m track_variable\n",
            "File \u001b[1;32mc:\\Users\\Aditiya\\mambaforge\\envs\\manhattan\\Lib\\site-packages\\keras\\src\\__init__.py:21\u001b[0m\n\u001b[0;32m     15\u001b[0m \u001b[39m\"\"\"Implementation of the Keras API, the high-level API of TensorFlow.\u001b[39;00m\n\u001b[0;32m     16\u001b[0m \n\u001b[0;32m     17\u001b[0m \u001b[39mDetailed documentation and user guides are available at\u001b[39;00m\n\u001b[0;32m     18\u001b[0m \u001b[39m[keras.io](https://keras.io).\u001b[39;00m\n\u001b[0;32m     19\u001b[0m \u001b[39m\"\"\"\u001b[39;00m\n\u001b[0;32m     20\u001b[0m \u001b[39mfrom\u001b[39;00m \u001b[39mkeras\u001b[39;00m\u001b[39m.\u001b[39;00m\u001b[39msrc\u001b[39;00m \u001b[39mimport\u001b[39;00m distribute\n\u001b[1;32m---> 21\u001b[0m \u001b[39mfrom\u001b[39;00m \u001b[39mkeras\u001b[39;00m\u001b[39m.\u001b[39;00m\u001b[39msrc\u001b[39;00m \u001b[39mimport\u001b[39;00m models\n\u001b[0;32m     22\u001b[0m \u001b[39mfrom\u001b[39;00m \u001b[39mkeras\u001b[39;00m\u001b[39m.\u001b[39;00m\u001b[39msrc\u001b[39;00m\u001b[39m.\u001b[39;00m\u001b[39mengine\u001b[39;00m\u001b[39m.\u001b[39;00m\u001b[39minput_layer\u001b[39;00m \u001b[39mimport\u001b[39;00m Input\n\u001b[0;32m     23\u001b[0m \u001b[39mfrom\u001b[39;00m \u001b[39mkeras\u001b[39;00m\u001b[39m.\u001b[39;00m\u001b[39msrc\u001b[39;00m\u001b[39m.\u001b[39;00m\u001b[39mengine\u001b[39;00m\u001b[39m.\u001b[39;00m\u001b[39msequential\u001b[39;00m \u001b[39mimport\u001b[39;00m Sequential\n",
            "File \u001b[1;32mc:\\Users\\Aditiya\\mambaforge\\envs\\manhattan\\Lib\\site-packages\\keras\\src\\models\\__init__.py:18\u001b[0m\n\u001b[0;32m      1\u001b[0m \u001b[39m# Copyright 2022 The TensorFlow Authors. All Rights Reserved.\u001b[39;00m\n\u001b[0;32m      2\u001b[0m \u001b[39m#\u001b[39;00m\n\u001b[0;32m      3\u001b[0m \u001b[39m# Licensed under the Apache License, Version 2.0 (the \"License\");\u001b[39;00m\n\u001b[1;32m   (...)\u001b[0m\n\u001b[0;32m     13\u001b[0m \u001b[39m# limitations under the License.\u001b[39;00m\n\u001b[0;32m     14\u001b[0m \u001b[39m# ==============================================================================\u001b[39;00m\n\u001b[0;32m     15\u001b[0m \u001b[39m\"\"\"Keras models API.\"\"\"\u001b[39;00m\n\u001b[1;32m---> 18\u001b[0m \u001b[39mfrom\u001b[39;00m \u001b[39mkeras\u001b[39;00m\u001b[39m.\u001b[39;00m\u001b[39msrc\u001b[39;00m\u001b[39m.\u001b[39;00m\u001b[39mengine\u001b[39;00m\u001b[39m.\u001b[39;00m\u001b[39mfunctional\u001b[39;00m \u001b[39mimport\u001b[39;00m Functional\n\u001b[0;32m     19\u001b[0m \u001b[39mfrom\u001b[39;00m \u001b[39mkeras\u001b[39;00m\u001b[39m.\u001b[39;00m\u001b[39msrc\u001b[39;00m\u001b[39m.\u001b[39;00m\u001b[39mengine\u001b[39;00m\u001b[39m.\u001b[39;00m\u001b[39msequential\u001b[39;00m \u001b[39mimport\u001b[39;00m Sequential\n\u001b[0;32m     20\u001b[0m \u001b[39mfrom\u001b[39;00m \u001b[39mkeras\u001b[39;00m\u001b[39m.\u001b[39;00m\u001b[39msrc\u001b[39;00m\u001b[39m.\u001b[39;00m\u001b[39mengine\u001b[39;00m\u001b[39m.\u001b[39;00m\u001b[39mtraining\u001b[39;00m \u001b[39mimport\u001b[39;00m Model\n",
            "File \u001b[1;32mc:\\Users\\Aditiya\\mambaforge\\envs\\manhattan\\Lib\\site-packages\\keras\\src\\engine\\functional.py:23\u001b[0m\n\u001b[0;32m     20\u001b[0m \u001b[39mimport\u001b[39;00m \u001b[39mitertools\u001b[39;00m\n\u001b[0;32m     21\u001b[0m \u001b[39mimport\u001b[39;00m \u001b[39mwarnings\u001b[39;00m\n\u001b[1;32m---> 23\u001b[0m \u001b[39mimport\u001b[39;00m \u001b[39mtensorflow\u001b[39;00m\u001b[39m.\u001b[39;00m\u001b[39mcompat\u001b[39;00m\u001b[39m.\u001b[39;00m\u001b[39mv2\u001b[39;00m \u001b[39mas\u001b[39;00m \u001b[39mtf\u001b[39;00m\n\u001b[0;32m     25\u001b[0m \u001b[39mfrom\u001b[39;00m \u001b[39mkeras\u001b[39;00m\u001b[39m.\u001b[39;00m\u001b[39msrc\u001b[39;00m \u001b[39mimport\u001b[39;00m backend\n\u001b[0;32m     26\u001b[0m \u001b[39mfrom\u001b[39;00m \u001b[39mkeras\u001b[39;00m\u001b[39m.\u001b[39;00m\u001b[39msrc\u001b[39;00m\u001b[39m.\u001b[39;00m\u001b[39mdtensor\u001b[39;00m \u001b[39mimport\u001b[39;00m layout_map \u001b[39mas\u001b[39;00m layout_map_lib\n",
            "\u001b[1;31mModuleNotFoundError\u001b[0m: No module named 'tensorflow'"
          ]
        }
      ],
      "source": [
        "# Loading the MNIST dataset\n",
        "from keras.datasets import mnist\n",
        "from keras.utils import to_categorical\n",
        "\n",
        "(X_train, y_train), (X_test, y_test) = mnist.load_data()\n",
        "\n",
        "# For the MNIST dataset, we consider a simple NN of 784 input nodes, 30 hidden nodes and 10 output nodes\n",
        "mnistNN = simpleNN(784, 30, 10)\n",
        "\n",
        "# Normalizing the data\n",
        "X_train = X_train / 255\n",
        "X_test = X_test / 255\n",
        "\n",
        "# Reshape the training data and test data\n",
        "X_train = X_train.reshape(X_train.shape[0], -1)\n",
        "X_test = X_test.reshape(X_test.shape[0], -1)\n",
        "\n",
        "# One-hot encoding the labels\n",
        "y_train = to_categorical(y_train)\n",
        "y_test = to_categorical(y_test)\n",
        "\n",
        "# Training the network\n",
        "mnistNN.learn(X_train, y_train, n_iter=1000, activation='softplus')\n",
        "\n",
        "# Testing the network\n",
        "preds = mnistNN.predict(X_test, activation='softplus')\n",
        "print(preds[:5])\n",
        "print(y_test[:5])\n",
        "\n",
        "# Calculating the accuracy\n",
        "correct = 0\n",
        "for i in range(len(preds)):\n",
        "    if numpy.argmax(preds[i]) == numpy.argmax(y_test[i]):\n",
        "        correct += 1\n",
        "print(f\"Accuracy: {correct/len(preds)}\")"
      ]
    },
    {
      "cell_type": "code",
      "execution_count": null,
      "metadata": {
        "id": "lXJzHRDyhFwQ"
      },
      "outputs": [],
      "source": []
    }
  ],
  "metadata": {
    "colab": {
      "provenance": []
    },
    "kernelspec": {
      "display_name": "Python 3 (ipykernel)",
      "language": "python",
      "name": "python3"
    },
    "language_info": {
      "codemirror_mode": {
        "name": "ipython",
        "version": 3
      },
      "file_extension": ".py",
      "mimetype": "text/x-python",
      "name": "python",
      "nbconvert_exporter": "python",
      "pygments_lexer": "ipython3",
      "version": "3.12.0"
    }
  },
  "nbformat": 4,
  "nbformat_minor": 0
}
