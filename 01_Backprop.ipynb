{
  "cells": [
    {
      "cell_type": "markdown",
      "metadata": {
        "id": "cJXR8-b_hFvt"
      },
      "source": [
        "# Welcome to your first assignment of the SSL lecture\n",
        "\n",
        "We are very glad, that you took the first step and opened this Jupyter Notebook successfully.\n",
        "\n",
        "Please submit your solution of this notebook in the Whiteboard at the corresponding Assignment entry. We need you to upload the .ipynb-file and the exported .pdf of this notebook.\n",
        "\n",
        "This and all the upcoming assignment notebooks will guide you (more or less) through the tasks we want you to solve. You sometimes will find some code snippets, which may help you to solve the tasks. But you are also free to implement your own functions, if you want to.\n",
        "\n",
        "For the first week we want you implement and train a simple neural network with backpropagation, just like we did in the lecture. If you have any questions, ask them in either in the tutorials or in the \"Mattermost\" channel: https://mattermost.imp.fu-berlin.de/biorobotics/channels/ssl_ws_2324\n",
        "\n",
        "The Exercise description states the **RESULT** we will grade."
      ]
    },
    {
      "cell_type": "markdown",
      "metadata": {
        "id": "kIHCJXSchFvy"
      },
      "source": [
        "## Slide Review\n",
        "\n",
        "[Google Form](https://forms.gle/MstgymkWzPcWDFCa7) for the slide review. Please take one minute to scroll over the slides again and improve your lecture."
      ]
    },
    {
      "cell_type": "markdown",
      "metadata": {
        "id": "qZKLLAUJhFv1"
      },
      "source": [
        "#### Please state both names of your group members here:\n",
        "Authors: Aditya Panchal (Do not have a group mate yet :/)"
      ]
    },
    {
      "cell_type": "markdown",
      "metadata": {
        "id": "hB8ks44zhFv2"
      },
      "source": [
        "# Assignment 1: Backpropagation\n",
        "We recommend you read the chapter 7.3.3 of the Rojas book (https://www.inf.fu-berlin.de/inst/ag-ki/rojas_home/documents/1996/NeuralNetworks/neuron.pdf), and learn about the \"matrix way\" of implementing backprop.\n",
        "\n",
        "## Ex. 1.1 XOR\n",
        "Implement a two-layer artificial neural network with two input neurons and one output neuron. Choose the number of hidden neurons to your liking. Our goal is to learn the [XOR gate](https://en.wikipedia.org/wiki/XOR_gate). What does the untrained network (= random weights) return for all (four) combinations of inputs? **(RESULT)**"
      ]
    },
    {
      "cell_type": "code",
      "execution_count": 1,
      "metadata": {
        "id": "a8UD_di0hFv5"
      },
      "outputs": [],
      "source": [
        "import matplotlib.pyplot as plt\n",
        "import numpy\n",
        "\n",
        "def sigmoid(z):\n",
        "    return 1/(1 + numpy.exp(-z))\n",
        "\n",
        "def softplus(z): # For the MNIST thingy\n",
        "    return numpy.log(1 + numpy.exp(z))\n",
        "\n",
        "def sigmoid_prime(z): # Derivative of sigmoid function\n",
        "    return z * (1 - z)\n",
        "\n",
        "def softplus_prime(z): # Derivate of the softplus function\n",
        "    return sigmoid(-z)\n",
        "\n",
        "class simpleNN():\n",
        "    def __init__(self, inputs=2, hidden=2, outputs=1):\n",
        "        self.n_input = inputs\n",
        "        self.n_hidden = hidden\n",
        "        self.n_output = outputs\n",
        "\n",
        "        self.input_wt_matrix = numpy.random.uniform(size=(self.n_input, self.n_hidden))\n",
        "        self.output_wt_matrix = numpy.random.uniform(size=(self.n_hidden, self.n_output))\n",
        "\n",
        "    def predict(self, X, activation='sigmoid'):\n",
        "        hidden_layer_input = numpy.dot(X, self.input_wt_matrix)\n",
        "        if activation=='sigmoid':\n",
        "            self.hidden_layer_output = sigmoid(hidden_layer_input)\n",
        "        elif activation=='softplus':\n",
        "            self.hidden_layer_output = softplus(hidden_layer_input)\n",
        "        else:\n",
        "            self.hidden_layer_output = hidden_layer_input\n",
        "\n",
        "        final_layer_input = numpy.dot(self.hidden_layer_output, self.output_wt_matrix)\n",
        "        if activation=='sigmoid':\n",
        "            self.final_layer_output = sigmoid(final_layer_input)\n",
        "        elif activation=='softplus':\n",
        "            self.final_layer_output = softplus(final_layer_input)\n",
        "        else:\n",
        "            self.final_layer_output = final_layer_input\n",
        "        return self.final_layer_output\n",
        "\n",
        "    def get_error(self, predictions, true):\n",
        "        return true - predictions"
      ]
    },
    {
      "cell_type": "code",
      "execution_count": 2,
      "metadata": {
        "colab": {
          "base_uri": "https://localhost:8080/"
        },
        "id": "utab7PCYhFv8",
        "outputId": "d13f23d5-402c-427a-8b16-143a6922aefd"
      },
      "outputs": [
        {
          "output_type": "stream",
          "name": "stdout",
          "text": [
            "Random weights, without activation\n",
            "Predictions: \n",
            " [[0.        ]\n",
            " [1.54201331]\n",
            " [0.66820927]\n",
            " [2.21022258]]\n",
            "Errors: \n",
            " [[ 0.        ]\n",
            " [-0.54201331]\n",
            " [ 0.33179073]\n",
            " [-2.21022258]]\n",
            "Mean Absolute Error: 0.6051112899457957\n",
            "\n",
            "Random weights, with activation\n",
            "Predictions: \n",
            " [[0.73073591]\n",
            " [0.79594584]\n",
            " [0.7618617 ]\n",
            " [0.81719085]]\n",
            "Errors: \n",
            " [[-0.73073591]\n",
            " [ 0.20405416]\n",
            " [ 0.2381383 ]\n",
            " [-0.81719085]]\n",
            "Mean Absolute Error: 0.2764335771460982\n"
          ]
        }
      ],
      "source": [
        "X = numpy.array([[0, 0], [0, 1], [1, 0], [1, 1]])\n",
        "y = numpy.array([[0], [1], [1], [0]])\n",
        "\n",
        "nn = simpleNN(2, 4, 1)\n",
        "\n",
        "# Without activation\n",
        "print(\"Random weights, without activation\")\n",
        "preds = nn.predict(X, activation='none')\n",
        "print(\"Predictions: \\n\", preds)\n",
        "err = nn.get_error(preds, y)\n",
        "print(\"Errors: \\n\", err)\n",
        "print(f\"Mean Absolute Error: {abs(numpy.mean(err))}\")\n",
        "\n",
        "# With activation\n",
        "print(\"\\nRandom weights, with activation\")\n",
        "preds = nn.predict(X, activation='sigmoid')\n",
        "print(\"Predictions: \\n\", preds)\n",
        "err = nn.get_error(preds, y)\n",
        "print(\"Errors: \\n\", err)\n",
        "print(f\"Mean Absolute Error: {abs(numpy.mean(err))}\")"
      ]
    },
    {
      "cell_type": "markdown",
      "metadata": {
        "id": "5grytu1thFwA"
      },
      "source": [
        "## Ex. 1.2 Backpropagation\n",
        "Implement Backpropagation and optimize the weights of your neural network using the XOR training set:\n",
        "\n",
        "### x, y\n",
        "\n",
        "(0,0), 0\n",
        "\n",
        "(0,1), 1\n",
        "\n",
        "(1,0), 1\n",
        "\n",
        "(1,1), 0\n",
        "\n",
        "How many training iterations do you need? Plot the network error over the number of iterations! **(RESULT)**"
      ]
    },
    {
      "cell_type": "code",
      "execution_count": 3,
      "metadata": {
        "id": "OSgf6EsOhFwC"
      },
      "outputs": [],
      "source": [
        "def learn(self, X, y, n_iter=10000, activation='sigmoid'):\n",
        "    errors = []\n",
        "    for i in range(n_iter):\n",
        "        preds = self.predict(X, activation=activation)\n",
        "        err = self.get_error(preds, y)\n",
        "        errors.append(abs(numpy.mean(err)))\n",
        "        print(f\"Iteration: {i}\\tMean Absolute Error: {abs(numpy.mean(err))}\") if i % (n_iter/10) == 0 else None\n",
        "\n",
        "        # Backpropagation\n",
        "        if activation == 'sigmoid':\n",
        "            output_derivative = err * sigmoid_prime(preds)\n",
        "        elif activation == 'softplus':\n",
        "            output_derivative = err * softplus_prime(preds)\n",
        "        else:\n",
        "            output_derivative = err\n",
        "        hidden_layer_err = numpy.dot(output_derivative, self.output_wt_matrix.T)\n",
        "        if activation == 'sigmoid':\n",
        "            hidden_layer_derivative = hidden_layer_err * sigmoid_prime(self.hidden_layer_output)\n",
        "        elif activation == 'softplus':\n",
        "            hidden_layer_derivative = hidden_layer_err * softplus_prime(self.hidden_layer_output)\n",
        "        else:\n",
        "            hidden_layer_derivative = hidden_layer_err\n",
        "        self.output_wt_matrix += numpy.dot(self.hidden_layer_output.T, output_derivative)\n",
        "        self.input_wt_matrix += numpy.dot(X.T, hidden_layer_derivative)\n",
        "\n",
        "    print(f\"\\nFinal outputs: \\n{preds}\")\n",
        "    print(f\"Final MAE: {abs(numpy.mean(err))}\")\n",
        "\n",
        "    # Plotting the errors\n",
        "    plt.plot(errors, color=\"#DD1010AA\")\n",
        "    plt.xlabel('Iterations')\n",
        "    plt.ylabel('Mean Absolute Error')\n",
        "    plt.hlines(0, 0, n_iter, linestyles='dashed', colors=\"#10101099\")\n",
        "    plt.title('Network Error vs No. of Iterations')\n",
        "    plt.show()"
      ]
    },
    {
      "cell_type": "code",
      "execution_count": 4,
      "metadata": {
        "colab": {
          "base_uri": "https://localhost:8080/",
          "height": 767
        },
        "id": "OoR93_CVhSCj",
        "outputId": "7b6e00b0-3c48-40e9-b2ef-3fed7fe0054d"
      },
      "outputs": [
        {
          "output_type": "stream",
          "name": "stdout",
          "text": [
            "Iteration: 0\tMean Absolute Error: 0.33127625159080537\n",
            "Iteration: 100\tMean Absolute Error: 0.003387207303937892\n",
            "Iteration: 200\tMean Absolute Error: 0.00504549768992632\n",
            "Iteration: 300\tMean Absolute Error: 0.011013831518244158\n",
            "Iteration: 400\tMean Absolute Error: 0.015534318686530824\n",
            "Iteration: 500\tMean Absolute Error: 0.008840246283900122\n",
            "Iteration: 600\tMean Absolute Error: 0.006324274468715772\n",
            "Iteration: 700\tMean Absolute Error: 0.006338534868364276\n",
            "Iteration: 800\tMean Absolute Error: 0.0055819235538612025\n",
            "Iteration: 900\tMean Absolute Error: 0.0048562628381054115\n",
            "\n",
            "Final outputs: \n",
            "[[0.1280217 ]\n",
            " [0.91423904]\n",
            " [0.91454116]\n",
            " [0.06027635]]\n",
            "Final MAE: 0.00426956099128723\n"
          ]
        },
        {
          "output_type": "display_data",
          "data": {
            "text/plain": [
              "<Figure size 640x480 with 1 Axes>"
            ],
            "image/png": "[encoded data removed]"
          },
          "metadata": {}
        }
      ],
      "source": [
        "simpleNN.learn = learn\n",
        "\n",
        "nn = simpleNN(2, 4, 1)\n",
        "X = numpy.array([[0, 0], [0, 1], [1, 0], [1, 1]])\n",
        "y = numpy.array([[0], [1], [1], [0]])\n",
        "nn.learn(X, y, n_iter=1000, activation='sigmoid')"
      ]
    },
    {
      "cell_type": "markdown",
      "metadata": {
        "id": "m6DqvVOIhFwH"
      },
      "source": [
        "From above, a good number of training iterations seems to be >500"
      ]
    },
    {
      "cell_type": "markdown",
      "metadata": {
        "id": "GnyKASh7hFwK"
      },
      "source": [
        "# Ex. 1.3 MNIST (BONUS)\n",
        "Train your network on the MNIST dataset and state the model accuracy (or the model error) for the training and test sets. **(RESULT)** You can download the dataset using the [PyTorch library](https://pytorch.org/vision/0.15/generated/torchvision.datasets.MNIST.html).\n",
        "\n",
        "Compare your results to this [list](https://rodrigob.github.io/are_we_there_yet/build/classification_datasets_results.html#4d4e495354).\n"
      ]
    },
    {
      "cell_type": "code",
      "execution_count": 5,
      "metadata": {
        "colab": {
          "base_uri": "https://localhost:8080/",
          "height": 976
        },
        "id": "9eEmjlC9hFwN",
        "outputId": "68cad8d1-2c3c-44d7-911d-5ecf3328a8f8"
      },
      "outputs": [
        {
          "output_type": "stream",
          "name": "stdout",
          "text": [
            "Iteration: 0\tMean Absolute Error: 0.8999983402494681\n"
          ]
        },
        {
          "output_type": "stream",
          "name": "stderr",
          "text": [
            "<ipython-input-1-f5aec2089697>:5: RuntimeWarning: overflow encountered in exp\n",
            "  return 1/(1 + numpy.exp(-z))\n"
          ]
        },
        {
          "output_type": "stream",
          "name": "stdout",
          "text": [
            "Iteration: 40\tMean Absolute Error: 7.948464674150667e-09\n",
            "Iteration: 80\tMean Absolute Error: 1.8131100025709502e-08\n",
            "Iteration: 120\tMean Absolute Error: 0.1000000000000558\n",
            "Iteration: 160\tMean Absolute Error: 0.1000000000000558\n",
            "Iteration: 200\tMean Absolute Error: 0.1000000000000558\n",
            "Iteration: 240\tMean Absolute Error: 0.1000000000000558\n",
            "Iteration: 280\tMean Absolute Error: 0.1000000000000558\n",
            "Iteration: 320\tMean Absolute Error: 0.1000000000000558\n",
            "Iteration: 360\tMean Absolute Error: 0.1000000000000558\n",
            "\n",
            "Final outputs: \n",
            "[[5.57300638e-013 0.00000000e+000 2.87164229e-228 ... 0.00000000e+000\n",
            "  1.00000000e+000 1.00000000e+000]\n",
            " [5.57300638e-013 0.00000000e+000 2.87164229e-228 ... 0.00000000e+000\n",
            "  1.00000000e+000 1.00000000e+000]\n",
            " [5.57300638e-013 0.00000000e+000 2.87164229e-228 ... 0.00000000e+000\n",
            "  1.00000000e+000 1.00000000e+000]\n",
            " ...\n",
            " [5.57300638e-013 0.00000000e+000 2.87164229e-228 ... 0.00000000e+000\n",
            "  1.00000000e+000 1.00000000e+000]\n",
            " [5.57300638e-013 0.00000000e+000 2.87164229e-228 ... 0.00000000e+000\n",
            "  1.00000000e+000 1.00000000e+000]\n",
            " [5.57300638e-013 0.00000000e+000 2.87164229e-228 ... 0.00000000e+000\n",
            "  1.00000000e+000 1.00000000e+000]]\n",
            "Final MAE: 0.1000000000000558\n"
          ]
        },
        {
          "output_type": "display_data",
          "data": {
            "text/plain": [
              "<Figure size 640x480 with 1 Axes>"
            ],
            "image/png": "[encoded data removed]"
          },
          "metadata": {}
        },
        {
          "output_type": "stream",
          "name": "stdout",
          "text": [
            "Accuracy: 0.0974\n"
          ]
        }
      ],
      "source": [
        "# Loading the MNIST dataset\n",
        "from keras.datasets import mnist\n",
        "from keras.utils import to_categorical\n",
        "\n",
        "(X_train, y_train), (X_test, y_test) = mnist.load_data()\n",
        "\n",
        "# For the MNIST dataset, we consider a simple NN of 784 input nodes, 30 hidden nodes and 10 output nodes\n",
        "mnistNN = simpleNN(784, 30, 10)\n",
        "\n",
        "# Normalizing the data\n",
        "X_train = X_train / 255\n",
        "X_test = X_test / 255\n",
        "\n",
        "# Reshape the training data and test data\n",
        "X_train = X_train.reshape(X_train.shape[0], -1)\n",
        "X_test = X_test.reshape(X_test.shape[0], -1)\n",
        "\n",
        "# One-hot encoding the labels\n",
        "y_train = to_categorical(y_train)\n",
        "y_test = to_categorical(y_test)\n",
        "\n",
        "# Training the network\n",
        "mnistNN.learn(X_train, y_train, n_iter=400, activation='sigmoid')\n",
        "\n",
        "# Testing the network\n",
        "preds = mnistNN.predict(X_test, activation='sigmoid')\n",
        "\n",
        "# Calculating the accuracy\n",
        "correct = 0\n",
        "for i in range(len(preds)):\n",
        "    if numpy.argmax(preds[i]) == numpy.argmax(y_test[i]):\n",
        "        correct += 1\n",
        "print(f\"Accuracy: {correct/len(preds)}\")"
      ]
    },
    {
      "cell_type": "markdown",
      "source": [
        "We can see that the accuracy of our model is quite low, which is understandable as it a rather simple one. It could also be the case of the activation function used (here sigmoid as softplus was giving some errors)"
      ],
      "metadata": {
        "id": "T0aqXbJbw1Yd"
      }
    },
    {
      "cell_type": "code",
      "source": [],
      "metadata": {
        "id": "8AyTH4E7xCD-"
      },
      "execution_count": null,
      "outputs": []
    }
  ],
  "metadata": {
    "colab": {
      "provenance": []
    },
    "kernelspec": {
      "display_name": "Python 3 (ipykernel)",
      "language": "python",
      "name": "python3"
    },
    "language_info": {
      "codemirror_mode": {
        "name": "ipython",
        "version": 3
      },
      "file_extension": ".py",
      "mimetype": "text/x-python",
      "name": "python",
      "nbconvert_exporter": "python",
      "pygments_lexer": "ipython3",
      "version": "3.12.0"
    }
  },
  "nbformat": 4,
  "nbformat_minor": 0
}